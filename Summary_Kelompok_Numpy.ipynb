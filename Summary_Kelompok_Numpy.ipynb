{
  "nbformat": 4,
  "nbformat_minor": 0,
  "metadata": {
    "colab": {
      "name": "Summary Kelompok Numpy",
      "provenance": []
    },
    "kernelspec": {
      "name": "python3",
      "display_name": "Python 3"
    },
    "language_info": {
      "name": "python"
    }
  },
  "cells": [
    {
      "cell_type": "markdown",
      "source": [
        "Tipe-tipe Data bawaan Python, Meliputi :\n",
        "1. Numerik =\n",
        "Numerik merupakan data yang berisikan angka\n",
        "2. Teks =\n",
        "Data Teks adalah data yang berisikan karakter huruf atau simbol\n",
        "3. Boolean =\n",
        "Data boolean merupakan data yang memiliki nilai kondisi True atau False"
      ],
      "metadata": {
        "id": "_fA2SFBp-eGi"
      }
    },
    {
      "cell_type": "markdown",
      "source": [
        "Numerik merupakan data yang berisikan data. Tipe data Numerik sendiri terbagi atas 3, yaitu : \n",
        "1. Int (Integer)\n",
        "2. Float (Decimal Points)\n",
        "3. Complex (x+yj, dimana x adalah bilangan riil dan y adalah bilangan imajiner)"
      ],
      "metadata": {
        "id": "cjOQAELGdrT1"
      }
    },
    {
      "cell_type": "code",
      "source": [
        "#contoh penggunaan data integer,float, dan complex\n",
        "a = 8\n",
        "b = 11.5\n",
        "c = 3 + 4j"
      ],
      "metadata": {
        "id": "dxXZCQs9_NCX"
      },
      "execution_count": null,
      "outputs": []
    },
    {
      "cell_type": "code",
      "source": [
        "type(a)"
      ],
      "metadata": {
        "colab": {
          "base_uri": "https://localhost:8080/"
        },
        "id": "gZGYUKtB_ot0",
        "outputId": "1c9dbbdd-2630-491e-b9eb-53a429db7627"
      },
      "execution_count": null,
      "outputs": [
        {
          "output_type": "execute_result",
          "data": {
            "text/plain": [
              "int"
            ]
          },
          "metadata": {},
          "execution_count": 17
        }
      ]
    },
    {
      "cell_type": "code",
      "source": [
        "type(b)"
      ],
      "metadata": {
        "colab": {
          "base_uri": "https://localhost:8080/"
        },
        "id": "8CQTlxIK_s9f",
        "outputId": "60c028f5-bc33-4037-e643-0a11d6878034"
      },
      "execution_count": null,
      "outputs": [
        {
          "output_type": "execute_result",
          "data": {
            "text/plain": [
              "float"
            ]
          },
          "metadata": {},
          "execution_count": 18
        }
      ]
    },
    {
      "cell_type": "code",
      "source": [
        "type(c)"
      ],
      "metadata": {
        "colab": {
          "base_uri": "https://localhost:8080/"
        },
        "id": "uzbe7fNm_wVf",
        "outputId": "7adaaa1f-8197-4cd8-9372-2cfbc7430808"
      },
      "execution_count": null,
      "outputs": [
        {
          "output_type": "execute_result",
          "data": {
            "text/plain": [
              "complex"
            ]
          },
          "metadata": {},
          "execution_count": 19
        }
      ]
    },
    {
      "cell_type": "markdown",
      "source": [
        "String (Str) merupakan unicode atau karakter dari suatu data yang perlu menggunakan tanda \" saat men-define fungsinya, untuk penggunaan >1 baris tanda petiknya sebanyak 3 atau \"\"\"\"\n"
      ],
      "metadata": {
        "id": "hOzUlSwE_0QC"
      }
    },
    {
      "cell_type": "code",
      "source": [
        "#contoh penggunaan data string untuk 1 baris dan >1\n",
        "numpy = \"numphy kelompok kami\"\n",
        "num_py = \"\"\"Anggota Kelompok :\n",
        "Atika Rahmah\n",
        "Muhammad Atthariq Ramadhan\n",
        "Muhammad Iqbal Rustan\n",
        "Daril Hana Salsabila\n",
        "Donny P. Tambunan \n",
        " \"\"\""
      ],
      "metadata": {
        "id": "_L_NsCzSAUxb"
      },
      "execution_count": null,
      "outputs": []
    },
    {
      "cell_type": "code",
      "source": [
        "print(numpy)"
      ],
      "metadata": {
        "colab": {
          "base_uri": "https://localhost:8080/"
        },
        "id": "JdgRTuMkBLiJ",
        "outputId": "15adb749-8bef-4dbb-a26d-ee049f9ede94"
      },
      "execution_count": null,
      "outputs": [
        {
          "output_type": "stream",
          "name": "stdout",
          "text": [
            "numphy kelompok kami\n"
          ]
        }
      ]
    },
    {
      "cell_type": "code",
      "source": [
        "print(num_py)"
      ],
      "metadata": {
        "colab": {
          "base_uri": "https://localhost:8080/"
        },
        "id": "xOC9tKj-BPru",
        "outputId": "cdfd9277-03f4-4b76-f191-d02a1d1b921d"
      },
      "execution_count": null,
      "outputs": [
        {
          "output_type": "stream",
          "name": "stdout",
          "text": [
            "Anggota Kelompok :\n",
            "Atika Rahmah\n",
            "Muhammad Atthariq Ramadhan\n",
            "Muhammad Iqbal Rustan\n",
            "Daril Hana Salsabila\n",
            "Donny P. Tambunan \n",
            " \n"
          ]
        }
      ]
    },
    {
      "cell_type": "code",
      "source": [
        "type(numpy)"
      ],
      "metadata": {
        "colab": {
          "base_uri": "https://localhost:8080/"
        },
        "id": "UA8iYBZ8eKC6",
        "outputId": "5f6ddf76-18c6-4547-f1e3-296f986ceb55"
      },
      "execution_count": null,
      "outputs": [
        {
          "output_type": "execute_result",
          "data": {
            "text/plain": [
              "str"
            ]
          },
          "metadata": {},
          "execution_count": 23
        }
      ]
    },
    {
      "cell_type": "code",
      "source": [
        "type(num_py)"
      ],
      "metadata": {
        "colab": {
          "base_uri": "https://localhost:8080/"
        },
        "id": "HfbEVxPZeXtJ",
        "outputId": "7e2356fc-1075-474d-cec0-07af89265e04"
      },
      "execution_count": null,
      "outputs": [
        {
          "output_type": "execute_result",
          "data": {
            "text/plain": [
              "str"
            ]
          },
          "metadata": {},
          "execution_count": 24
        }
      ]
    },
    {
      "cell_type": "code",
      "source": [
        "#contoh lain penggunaan data string untuk lebih dari 1 baris\n",
        "num_py = \"Anggota Kelompok : \\nAtika Rahmah \\nMuhammad Atthariq Ramadhan \\nMuhammad Iqbal Rustan \\nDaril Hana Salsabila \\nDonny P. Tambunan\""
      ],
      "metadata": {
        "id": "4llgNc7JcV8L"
      },
      "execution_count": null,
      "outputs": []
    },
    {
      "cell_type": "code",
      "source": [
        "print(num_py)"
      ],
      "metadata": {
        "colab": {
          "base_uri": "https://localhost:8080/"
        },
        "id": "Sh-eDG81ctHM",
        "outputId": "5b616df1-6b78-484e-8938-b6fac91a78af"
      },
      "execution_count": null,
      "outputs": [
        {
          "output_type": "stream",
          "name": "stdout",
          "text": [
            "Anggota Kelompok : \n",
            "Atika Rahmah \n",
            "Muhammad Atthariq Ramadhan \n",
            "Muhammad Iqbal Rustan \n",
            "Daril Hana Salsabila \n",
            "Donny P. Tambunan\n"
          ]
        }
      ]
    },
    {
      "cell_type": "code",
      "source": [
        "type(num_py)"
      ],
      "metadata": {
        "colab": {
          "base_uri": "https://localhost:8080/"
        },
        "id": "utRkbhhcecT9",
        "outputId": "8dae8ece-0a2d-46d6-9efd-e24c24f7fe47"
      },
      "execution_count": null,
      "outputs": [
        {
          "output_type": "execute_result",
          "data": {
            "text/plain": [
              "str"
            ]
          },
          "metadata": {},
          "execution_count": 27
        }
      ]
    }
  ]
}